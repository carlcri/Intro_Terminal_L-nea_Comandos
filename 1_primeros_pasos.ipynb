{
 "cells": [
  {
   "cell_type": "markdown",
   "metadata": {},
   "source": [
    "# Primeros Pasos\n",
    "\n",
    "## ¿Qué es la terminal?\n",
    "La terminal es un programa que ejecuta líneas de comandos, que a su vez estas líneas de comando ejecutan acciones y aquí tienes que aprender dos conceptos: terminal y shell.\n",
    "\n",
    "**Concepto de terminal**\n",
    "Estamos muy acostumbrados a que en nuestra computadora inicie un sistema operativo que tenga un sistema de ventanas en el que podemos abrir carpetas y programas y podamos mover archivos a través de una interfaz gráfica.\n",
    "\n",
    "La terminal es otra ventana más, es un programa, una interfaz que recibe un comando para luego pasárselo a la shell y que esta última la ejecute. Con este programa podemos hacer todo lo que el sistema de carpetas e interfaz gráfica del sistema operativo puede hacer, pero utilizando comandos.\n",
    "\n",
    "**Concepto de shell**\n",
    "Ahora la terminal no ejecuta líneas de código, solo la recibe, es la shell quien hace todo el proceso de tomar el comando, ir con el procesador y la memoria RAM y decirles “tomen, ejecuten esto”.\n",
    "\n",
    "Si lo pensamos de otra forma, la shell nos proporciona una forma de comunicarnos con el procesador y la RAM sin tener que pasar por la interfaz gráfica.\n",
    "\n",
    "**¿Por qué usar la shell y no la interfaz gráfica?**\n",
    "Al final del día, la interfaz gráfica, como lo es el sistema de ventanas, es un programa más y como programa que es ocupa espacio en la memoria. De hecho, si estás en Windows 10 y abres el administrador de tareas en la pestaña Procesos, en el grupo Procesos de Windows, encontrarás uno llamado Explorador de Windows.\n",
    "\n",
    "Este programa no es todo el sistema de ventanas, pero si es todo el sistema de ficheros y como podemos ver ocupa espacio en CPU y en memoria RAM.\n",
    "\n",
    "La terminal es mucho menos pesada que el sistema de ventanas y el sistema de ficheros porque te comunicas directamente con los recursos del sistema operativo sin pasar por la interfaz gráfica.\n",
    "\n",
    "Además hay casos en los que no cuentas con una interfaz gráfica o también puede dañarse y tendrás que resolver utilizando la terminal de comandos.\n",
    "\n",
    "NOTA: Para este curso necesitarás estar usando un sistema operativo basado en linux o tener instalado Windows Subsystem for Linux en windows."
   ]
  },
  {
   "cell_type": "markdown",
   "metadata": {},
   "source": [
    "Para este curso se usara la *bash shell*"
   ]
  },
  {
   "cell_type": "markdown",
   "metadata": {},
   "source": [
    "## Aprendiendo a caminar en la terminal\n",
    "\n",
    "En los sistemas operativos organizamos los archivos en una estructura de carpetas en forma de árbol jerárquico. Este árbol cambia dependiendo de los diferentes sistemas operativos (no tanto en Linux y Mac).\n",
    "\n",
    "**Cómo funciona el sistema de carpetas**\n",
    "\n",
    "El sistema operativo con el que trabajaremos es Linux, por lo tanto usaremos su estructura. Observa el siguiente esquema:\n",
    "\n",
    "![](./images/image0.png)"
   ]
  },
  {
   "cell_type": "markdown",
   "metadata": {},
   "source": [
    "La carpeta con el símbolo “/” es la raíz, ahí es donde comienza todo el sistema de ficheros (el equivalente en Windows podría ser el fichero “C:\\”). Dentro de esta carpeta hay varios ficheros, el que nos importa en este momento es el “Home”.\n",
    "\n",
    "La carpeta “Home” contiene una carpeta por cada usuario del sistema y ya dentro de cada una de estas carpetas, estarán las carpetas que conocemos de toda la vida como imágenes, documentos, música, etc."
   ]
  },
  {
   "cell_type": "markdown",
   "metadata": {},
   "source": [
    "**Cómo entender la información al inicio de la terminal**\n",
    "\n",
    "Cuando abrimos la terminal vamos a ver algo como esto:\n",
    "\n",
    "![](./images/Captura1.JPG)"
   ]
  },
  {
   "cell_type": "markdown",
   "metadata": {},
   "source": [
    "Todo esto parece un mensaje encriptado, pero es más sencillo de lo que parece, vamos por partes:\n",
    "\n",
    "1. *julian* es el nombre del usuario que está activo. En tu caso aparecerá el nombre del usuario que esté activo en tu computadora.\n",
    "\n",
    "2. *DESKTOP-3R804MK* es el nombre que el sistema operativo le dio a la computadora. En este caso se usa Windows y ese es el nombre que en la instalación Windows le asignó al dispositivo. Si usas Linux aparecerá el nombre del PC que hayas colocado en la instalación.\n",
    "\n",
    "3. *~* es la carpeta en la que te encuentras y ahora es cuando empiezan las confusiones porque en el esquema no estaba una carpeta con ese símbolo. Más adelante verás como todo tiene sentido.\n",
    "\n",
    "4. Por último, $ significa que somos un usuario normal y no un root o un superusuario. Más adelante hablaremos más acerca de esto."
   ]
  },
  {
   "cell_type": "markdown",
   "metadata": {},
   "source": [
    "#### Primer comando pwd - Print Workig Directory\n",
    "\n",
    "Vimos que el símbolo ~ indica la carpeta donde te encuentras, ¿cuál es esa carpeta? Ejecuta *pwd*\n",
    "\n",
    "    /home/julian\n",
    "\n",
    "#### Slash (/)   \n",
    "\n",
    "Por último, el atajo slash te lleva a la raíz donde están todas las carpetas del sistema operativo.\n",
    "\n",
    "    cd /\n",
    "    ls -l\n",
    "\n",
    "#### comando ls y combinaciones\n",
    "\n",
    "1. -l: long\n",
    "\n",
    "2. -h: human readable\n",
    "\n",
    "3. -lh: combinacion de los dos anteriores\n",
    "\n",
    "4. -la: incluido archivos ocultos\n",
    "\n",
    "5. -lS: uno de los mejores\n",
    "\n",
    "¿Como saber que son ocultos? los que tienen un puntico antes del nombre\n",
    "\n",
    "#### comando file\n",
    "Con el comando ls podemos listar los elementos dentro de una carpeta, pero a veces no sabemos si es una archivo o si es una carpeta o lo que sea.\n",
    "\n",
    "Para eso tenemos el comando file que te da información acerca del tipo de elemento que hayas seleccionado:\n",
    "\n",
    "    file Images\n",
    "    file README.MD\n",
    "\n"
   ]
  },
  {
   "cell_type": "markdown",
   "metadata": {},
   "source": [
    "## Manipulando archivos y directorios\n",
    "\n",
    "Aprender este truco para ordenar tus archivos y directorios por tamaño\n",
    "\n",
    "    ls -lS \n",
    "\n",
    "![](./images/cap1.JPG)   \n",
    "\n",
    "Y su contraparte, para mostrarlos en reversa\n",
    "\n",
    "    -ls -lr"
   ]
  },
  {
   "cell_type": "markdown",
   "metadata": {},
   "source": [
    "#### comando tree\n",
    "\n",
    "En mi terminal no esta instalado, asi que lo instalo asi:\n",
    "\n",
    "    sudo apt install tree\n",
    "\n",
    "Y observo su salida en algun directorio, que como ves es muy ruidoso. Para redudir el ruido, lo uso con la opcion L de niveles, en este caso 2.\n",
    "\n",
    "    tree -L 2\n",
    "\n",
    "![](./images/cap2.JPG)"
   ]
  },
  {
   "cell_type": "markdown",
   "metadata": {},
   "source": [
    "### Otros comandos\n",
    "\n",
    "1. mkdir: crear directorios. si por ejemplo quieres crearlos con espacios entre comillas, pero advierto, es mas dificil de manipular\n",
    "\n",
    "    mkdir \"mi directorio\"\n",
    "2. touch: crear archivos, inlcuso varios a la vez\n",
    "\n",
    "    touch file1 file2 file3\n",
    "\n",
    "3. cp: copiar archivo o directorio\n",
    "\n",
    "4. mv: mover archivo o directorio. Tambien sirve para renombrarlos\n",
    "\n",
    "5. rm: borrarlos o removerlos. Para borrar un directorio de usa la opcion *-r* de recursive\n",
    "\n",
    "#### Como usar adecuadamente el comando rm\n",
    "\n",
    "Como es peligrosos siempre borrar informacion, es mejor usarlo con la opcion *ri*. Crea un directorio con esta estructura, y observa como trabaja.\n",
    "\n",
    "    rm -ri my_directory\n",
    "\n",
    "![](./images/cap3.JPG)\n",
    "\n"
   ]
  }
 ],
 "metadata": {
  "kernelspec": {
   "display_name": "Python 3.8.10 ('env': venv)",
   "language": "python",
   "name": "python3"
  },
  "language_info": {
   "name": "python",
   "version": "3.8.10"
  },
  "orig_nbformat": 4,
  "vscode": {
   "interpreter": {
    "hash": "d006d1cce6a1dbee9ab9c4c401430c59131332a971fd8464bbac7b6f2891ea38"
   }
  }
 },
 "nbformat": 4,
 "nbformat_minor": 2
}
